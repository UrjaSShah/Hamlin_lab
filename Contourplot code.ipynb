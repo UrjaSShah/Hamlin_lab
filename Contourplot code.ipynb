{
 "cells": [
  {
   "cell_type": "code",
   "execution_count": 42,
   "metadata": {},
   "outputs": [
    {
     "data": {
      "text/plain": [
       "<matplotlib.colorbar.Colorbar at 0x1a13087ba8>"
      ]
     },
     "execution_count": 42,
     "metadata": {},
     "output_type": "execute_result"
    },
    {
     "data": {
      "image/png": "[encoded data removed]",
      "text/plain": [
       "<Figure size 432x288 with 2 Axes>"
      ]
     },
     "metadata": {},
     "output_type": "display_data"
    }
   ],
   "source": [
    "#importing all the necessary packages\n",
    "from astropy.io import fits\n",
    "import numpy as np\n",
    "import astropy.io.fits as pyfits\n",
    "import matplotlib.pyplot as plt\n",
    "from scipy import stats\n",
    "import warnings\n",
    "import numpy.ma as ma\n",
    "import numpy as np\n",
    "from scipy import stats\n",
    "import matplotlib.pyplot as plt\n",
    "import itertools\n",
    "from matplotlib.mlab import griddata\n",
    "from numpy import nan\n",
    "#load the text file, extract the Temperature and Resistivity values from the columns and save it into individual arrays\n",
    "datafile =  np.loadtxt(\"50bar.txt\")[1:]\n",
    "source = np.loadtxt(\"50bar.txt\")\n",
    "T = np.loadtxt(\"50bar.txt\")[:,0]\n",
    "rho=np.loadtxt(\"50bar.txt\")[:,1]\n",
    "#define the max temperature values for the different ranges and the range of power to raise the temperature value to, N.\n",
    "tmax=np.arange(10,41,1)\n",
    "N=np.arange(0.1,4.1,0.1)\n",
    "#defined a function to find similar t values as the limits we want to create\n",
    "def find_nearest(array,value):\n",
    "    array=np.asarray(array)\n",
    "    idx=(np.abs(array-value)).argmin()\n",
    "    return array[idx]\n",
    "j=[]\n",
    "index=[]\n",
    "#This makes a list of arrays with the same starting point that end at consecutive tmax values\n",
    "rho=rho[~np.isnan(rho)]\n",
    "T=T[~np.isnan(T)]\n",
    "for i in tmax:\n",
    "    j=find_nearest(T,i)\n",
    "    T1=T.tolist()\n",
    "    index.append(T1.index(j))\n",
    "Temp_list=[]\n",
    "Temp_array=[]\n",
    "Rho_list=[]\n",
    "Rho_array=[]\n",
    "raisedT=[]\n",
    "Rho=[]\n",
    "Temp=[]\n",
    "r=[]\n",
    "counter=0\n",
    "rn=[]\n",
    "rt=[]\n",
    "#this part of the code raises the temperature arrays to respective n values and find the corresponding r values using a linear regression package\n",
    "for x in index:\n",
    "    Temp_list=T[0:x]\n",
    "    Temp_array=np.asarray(Temp_list)\n",
    "    Rho_list=rho[0:x]\n",
    "    Rho_array=np.asarray(Rho_list)\n",
    "    #raisedT=[]\n",
    "    #print(Temp_array)\n",
    "    for y in N:\n",
    "        raisedT=[]\n",
    "        for g in Temp_array:\n",
    "            raisedT.append(g**y)\n",
    "        #print(len(raisedT))\n",
    "        #print(len(Rho_array))\n",
    "        slope, intercept, r_value, p_value, std_err = stats.linregress(raisedT, Rho_array)#10^1\n",
    "        counter=counter+1\n",
    "        r.append(r_value)\n",
    "        rn.append(y)\n",
    "        rt.append(g)\n",
    "ra=np.asarray(r)\n",
    "rsq=[]\n",
    "#convert the r values to adjusted r squared values\n",
    "for i in ra:\n",
    "    rs = i**2\n",
    "    r_s = 1 - (((1-rs)*(len(rho)-1))/(len(rho)-2-1))\n",
    "    rsq.append(r_s)\n",
    "rsq=np.asarray(rsq)\n",
    "logrsq=[]\n",
    "#perform log(1-rsq)\n",
    "for j in rsq:\n",
    "    a = (1 - j)\n",
    "    b = np.log(a)\n",
    "    logrsq.append(b)\n",
    "logrsq=np.asarray(logrsq)\n",
    "#arrange the final log values into a 2D array where the columns are the different n values and the rows are the adjusted r squared values. So you'll have the number of columns as the same number of n values.\n",
    "log_rsq=np.reshape(logrsq,(-1,len(N)))\n",
    "np.savetxt(\"50barvalues.txt\",log_rsq)\n",
    "#making the contour plot\n",
    "plt.contourf(N,tmax,log_rsq)\n",
    "plt.xlabel(\"n\")\n",
    "plt.ylabel(\"temperature\")\n",
    "plt.title(\"50bar log(1-adj_rsq)\")\n",
    "plt.colorbar()"
   ]
  },
  {
   "cell_type": "code",
   "execution_count": null,
   "metadata": {},
   "outputs": [],
   "source": []
  }
 ],
 "metadata": {
  "kernelspec": {
   "display_name": "Python 3",
   "language": "python",
   "name": "python3"
  },
  "language_info": {
   "codemirror_mode": {
    "name": "ipython",
    "version": 3
   },
   "file_extension": ".py",
   "mimetype": "text/x-python",
   "name": "python",
   "nbconvert_exporter": "python",
   "pygments_lexer": "ipython3",
   "version": "3.6.4"
  }
 },
 "nbformat": 4,
 "nbformat_minor": 2
}
